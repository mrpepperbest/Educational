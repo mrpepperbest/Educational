{
 "cells": [
  {
   "cell_type": "markdown",
   "id": "30e43996",
   "metadata": {},
   "source": [
    "# Проверка распределений на совпадение и независимость частей при помощи различных критериев"
   ]
  },
  {
   "cell_type": "code",
   "execution_count": 1,
   "id": "321f3579",
   "metadata": {},
   "outputs": [],
   "source": [
    "# Подключение пакетов\n",
    "import numpy as np\n",
    "import matplotlib.pyplot as plt\n",
    "import math\n",
    "import seaborn as sns"
   ]
  },
  {
   "cell_type": "markdown",
   "id": "7531799c",
   "metadata": {},
   "source": [
    "## 1. Собственная функция нормального распределения и ее сравнение с numpy\n",
    "Ниже приведен код самой функции, и генерация распределения для примера."
   ]
  },
  {
   "cell_type": "code",
   "execution_count": 2,
   "id": "90d8306b",
   "metadata": {},
   "outputs": [],
   "source": [
    "# Normal distribution function\n",
    "def normal_dist(x , mean , sd):\n",
    "    prob_density = 1/(np.sqrt(2*np.pi)*sd) * np.exp(-0.5*((x-mean)/sd)**2)\n",
    "    return prob_density\n",
    "\n",
    "x = np.linspace(-5,5,200)\n",
    "pdf = normal_dist(x,0,1)\n",
    "a = np.random.normal(0,1,200)\n"
   ]
  },
  {
   "cell_type": "markdown",
   "id": "dfcb35fa",
   "metadata": {},
   "source": [
    "### Сравнение\n",
    "На графике ниже приведено сравнение гистограмм распределений, сгенерированных самостоятельно (custom distribution) и при помощи средств среды разработки (numpy distribution). Можно заметить, что они практически совпадают. Различия возникают из-за малого числа элементов для сравнения."
   ]
  },
  {
   "cell_type": "code",
   "execution_count": 3,
   "id": "c39da531",
   "metadata": {},
   "outputs": [
    {
     "data": {
      "text/plain": [
       "Text(0, 0.5, 'Density')"
      ]
     },
     "execution_count": 3,
     "metadata": {},
     "output_type": "execute_result"
    },
    {
     "data": {
      "image/png": "[encoded data removed]",
      "text/plain": [
       "<Figure size 432x288 with 1 Axes>"
      ]
     },
     "metadata": {
      "needs_background": "light"
     },
     "output_type": "display_data"
    }
   ],
   "source": [
    "sns.kdeplot(a, fill=False, color='red', label='custom distribution')\n",
    "plt.plot(x, pdf, label='numpy distribution')\n",
    "plt.legend(loc='upper right', prop={'size': 9})\n",
    "plt.grid()\n",
    "\n",
    "plt.xlabel('x', fontsize=11)\n",
    "plt.ylabel('Density', fontsize=11)"
   ]
  },
  {
   "cell_type": "markdown",
   "id": "21218cd7",
   "metadata": {},
   "source": [
    "## Генерация распределений\n",
    "Ниже приведен функционал генерирования распределений 3-х видов N(0, 1) - нормальное, K(0, 1) -Коши, R(0,1) - равномерное.\n",
    "Все выборки генерируются програмными средствами."
   ]
  },
  {
   "cell_type": "code",
   "execution_count": 4,
   "id": "501530f2",
   "metadata": {},
   "outputs": [],
   "source": [
    "# Function for all types of distributions\n",
    "def generate_random_matrix(size, random_type):\n",
    "    \"\"\"\n",
    "    Creates square matrix of random numbers\n",
    "    :param size: Length of one side of a matrix\n",
    "    :param random_type: Type of distribution in matrix (Gaussian - normal, Cauchy, Uniform) \n",
    "    the possible values are: 'gauss', 'cauchy', 'uniform'\n",
    "    :return: Matrix as a np.array\n",
    "    \"\"\"\n",
    "    # Gaussian distribution\n",
    "    if random_type == 'gauss':\n",
    "        mu, sigma = 0, 1 # mean and standard deviation(1, because dispersion is 1, sqrt(1) = 1)\n",
    "        matrix = np.random.normal(mu, sigma, (size, size))\n",
    "    # Cauchyan distribution\n",
    "    if random_type == 'cauchy':\n",
    "        matrix = np.random.standard_cauchy(size = (size,size))\n",
    "    # Uniform distribution\n",
    "    if random_type == 'uniform':\n",
    "        matrix = np.random.uniform(0,1, size = (size,size))\n",
    "    return matrix"
   ]
  },
  {
   "cell_type": "markdown",
   "id": "e23a6d05",
   "metadata": {},
   "source": [
    "Генерация выборок с заданными параметрами, размером 1024*1024, т.е.1048576.\n",
    "$  \n",
    "$  \n",
    "$normal$ - Нормальное (Гаусса).\n",
    "$cauchy$ - распределение Коши.\n",
    "$uniform$ - равномерное."
   ]
  },
  {
   "cell_type": "code",
   "execution_count": 5,
   "id": "3c5197f3",
   "metadata": {},
   "outputs": [],
   "source": [
    "normal = generate_random_matrix(1024, 'gauss')\n",
    "cauchy = generate_random_matrix(1024, 'cauchy')\n",
    "uniform = generate_random_matrix(1024, 'uniform')"
   ]
  },
  {
   "cell_type": "markdown",
   "id": "aeed01b2",
   "metadata": {},
   "source": [
    "Нормальное распределение:"
   ]
  },
  {
   "cell_type": "code",
   "execution_count": 6,
   "id": "b7248d60",
   "metadata": {},
   "outputs": [
    {
     "name": "stdout",
     "output_type": "stream",
     "text": [
      "[-4.69637156 -4.67268596 -4.53969853 ...  4.57266312  4.60861047\n",
      "  4.63090946]\n"
     ]
    }
   ],
   "source": [
    "print(np.sort(np.reshape(normal, -1)))"
   ]
  },
  {
   "cell_type": "markdown",
   "id": "cebdbe38",
   "metadata": {},
   "source": [
    "Распределение Коши:"
   ]
  },
  {
   "cell_type": "code",
   "execution_count": 7,
   "id": "fac4580c",
   "metadata": {},
   "outputs": [
    {
     "name": "stdout",
     "output_type": "stream",
     "text": [
      "[-75305.02494706 -65533.35773717 -56696.52249963 ...  89882.84200524\n",
      "  91689.0636634  100811.0498936 ]\n"
     ]
    }
   ],
   "source": [
    "print(np.sort(np.reshape(cauchy, -1)))"
   ]
  },
  {
   "cell_type": "markdown",
   "id": "85a39274",
   "metadata": {},
   "source": [
    "Равномерное распределение:"
   ]
  },
  {
   "cell_type": "code",
   "execution_count": 8,
   "id": "46b13cae",
   "metadata": {},
   "outputs": [
    {
     "name": "stdout",
     "output_type": "stream",
     "text": [
      "[2.07393780e-06 2.77793852e-06 3.81499465e-06 ... 9.99994875e-01\n",
      " 9.99995875e-01 9.99997805e-01]\n"
     ]
    }
   ],
   "source": [
    "print(np.sort(np.reshape(uniform, -1)))"
   ]
  },
  {
   "cell_type": "markdown",
   "id": "63ea7d0e",
   "metadata": {},
   "source": [
    "## Проверки распределений\n",
    "Далее будут представлены проверки соответствия выборок различным распределениям."
   ]
  },
  {
   "cell_type": "markdown",
   "id": "ca674354",
   "metadata": {},
   "source": [
    "### Функция подсчета вероятности попадания элемента выборки на отрезок для каждого из исследуемых распределений"
   ]
  },
  {
   "cell_type": "code",
   "execution_count": 9,
   "id": "b92ddd77",
   "metadata": {},
   "outputs": [],
   "source": [
    "def probability(borders, random_type):\n",
    "    \"\"\"\n",
    "    Counts probabilities for distributions on compacts\n",
    "    :param borders: borders of the compact\n",
    "    :param random_type: Type of distribution in matrix (Gaussian - normal, Cauchy, Uniform) \n",
    "    the possible values are: 'gauss', 'cauchy', 'uniform'\n",
    "    :return: probability as a number\n",
    "    \"\"\"\n",
    "    # Gaussian distribution\n",
    "    if random_type == 'gauss':\n",
    "        function_1 = 0.5 * (1+math.erf((borders[0]-0)/(np.sqrt(2))))\n",
    "        function_2 = 0.5 * (1+math.erf((borders[1]-0)/(np.sqrt(2))))\n",
    "        return function_2 - function_1\n",
    "    # Cauchyan distribution\n",
    "    if random_type == 'cauchy':\n",
    "        function_1 = 1/np.pi*math.atan(borders[0])+0.5\n",
    "        function_2 = 1/np.pi*math.atan(borders[1])+0.5\n",
    "        return function_2 - function_1\n",
    "    # Uniform distribution\n",
    "    if random_type == 'uniform':\n",
    "        if borders[1]>0 and borders[1]<1 and borders[0]>0 and borders[0]<1:\n",
    "            return borders[1]-borders[0]\n",
    "        else:\n",
    "            return 0\n",
    "    "
   ]
  },
  {
   "cell_type": "markdown",
   "id": "50e6353d",
   "metadata": {},
   "source": [
    "Ниже производится расчет числа компактов, на которые делить числовой ряд, для текущей задачи. Их получается 174."
   ]
  },
  {
   "cell_type": "code",
   "execution_count": 10,
   "id": "dfb35ff7",
   "metadata": {},
   "outputs": [
    {
     "name": "stdout",
     "output_type": "stream",
     "text": [
      "174\n"
     ]
    }
   ],
   "source": [
    "# Compact amount\n",
    "compacts_amount = int(1.72*(1024*1024)**(1/3))\n",
    "print(compacts_amount)"
   ]
  },
  {
   "cell_type": "markdown",
   "id": "3fefe214",
   "metadata": {},
   "source": [
    "### Функция разбиения числового ряда на компакты"
   ]
  },
  {
   "cell_type": "code",
   "execution_count": 11,
   "id": "d12932e3",
   "metadata": {},
   "outputs": [],
   "source": [
    "# Deviding definition area to compacts\n",
    "def get_compacts(compacts_amount, size):\n",
    "    compacts=[-size//2]\n",
    "    current = -size//2\n",
    "    step = size/compacts_amount\n",
    "    for i in range(compacts_amount-1):\n",
    "        current+=step\n",
    "        compacts.append(current)\n",
    "        compacts.append(current)\n",
    "    compacts.append(size//2)\n",
    "    return compacts"
   ]
  },
  {
   "cell_type": "markdown",
   "id": "fe5c6661",
   "metadata": {},
   "source": [
    "### Функция подсчета числа элементов на полуотрезке"
   ]
  },
  {
   "cell_type": "code",
   "execution_count": 12,
   "id": "513005ab",
   "metadata": {},
   "outputs": [],
   "source": [
    "# Counts amount of elemnts in compact\n",
    "def elements_in_compact(data, compact):\n",
    "    data = [x for x in data if x>=compact[0] and x<compact[1]]\n",
    "    return len(data)"
   ]
  },
  {
   "cell_type": "markdown",
   "id": "23d784f6",
   "metadata": {},
   "source": [
    "## Статистика Хи-квадрат\n",
    "Ниже будет приведена проверка каждого из распределений по статистике Хи-Квадрат. Сначала данная статистика будет расчитана для каждой из гипотез для каждого из распределений, затем сравнена с квантилью распределения Хи-квадрат."
   ]
  },
  {
   "cell_type": "markdown",
   "id": "be612df3",
   "metadata": {},
   "source": [
    "### Функция расчета статистики Хи-квадрат"
   ]
  },
  {
   "cell_type": "code",
   "execution_count": 13,
   "id": "c4348c5f",
   "metadata": {},
   "outputs": [],
   "source": [
    "# Calculates Hi^2 statistics\n",
    "def hi_2_stats(array, compacts, random_type):\n",
    "    stat = 0\n",
    "    for index in range(len(compacts)//2):\n",
    "        border_1 = compacts[2*index]\n",
    "        border_2 = compacts[2*index+1]\n",
    "        borders = [border_1, border_2]\n",
    "        dots_in_compact = (elements_in_compact(array, borders))\n",
    "        prob= probability(borders, random_type)\n",
    "        if prob == 0:\n",
    "            stat+=0\n",
    "        else:\n",
    "            stat+=((dots_in_compact-len(array)*prob)/np.sqrt(len(array)*prob))**2\n",
    "    return stat"
   ]
  },
  {
   "cell_type": "markdown",
   "id": "c285e777",
   "metadata": {},
   "source": [
    "Осуществляется расчет статистики."
   ]
  },
  {
   "cell_type": "code",
   "execution_count": 14,
   "id": "77cbb2f8",
   "metadata": {},
   "outputs": [],
   "source": [
    "isnn = hi_2_stats(np.reshape(normal,-1), get_compacts(174,10), 'gauss')\n",
    "isnu = hi_2_stats(np.reshape(normal,-1), get_compacts(174,10), 'uniform')\n",
    "isnc = hi_2_stats(np.reshape(normal,-1), get_compacts(174,10), 'cauchy')\n",
    "isun = hi_2_stats(np.reshape(uniform,-1), get_compacts(174,10), 'gauss')\n",
    "isuu = hi_2_stats(np.reshape(uniform,-1), get_compacts(174,10), 'uniform')\n",
    "isuc = hi_2_stats(np.reshape(uniform,-1), get_compacts(174,10), 'cauchy')\n",
    "iscn = hi_2_stats(np.reshape(cauchy,-1), get_compacts(174,10), 'gauss')\n",
    "iscu = hi_2_stats(np.reshape(cauchy,-1), get_compacts(174,10), 'uniform')\n",
    "iscc = hi_2_stats(np.reshape(cauchy,-1), get_compacts(174,10), 'cauchy')"
   ]
  },
  {
   "cell_type": "markdown",
   "id": "2b7f7a82",
   "metadata": {},
   "source": [
    "### Функция нахождения квантили распределения Хи-квадрат по аппроксимации Корниша-Фишера"
   ]
  },
  {
   "cell_type": "code",
   "execution_count": 15,
   "id": "14dc3406",
   "metadata": {},
   "outputs": [],
   "source": [
    "# Caclculates Hi^2 quantile by Approximation of Cornish and Fisher\n",
    "def cornish_fisher(quant, n):\n",
    "    if quant>=0.5 and quant < 1:\n",
    "        d = 2.0637*(np.log(1/(1-quant)-0.16))**0.4274 - 1.5774\n",
    "    else:\n",
    "        d = -2.0637*(np.log(1/quant-0.16))**0.4274 + 1.5774\n",
    "    A = d*np.sqrt(2)\n",
    "    B = 2/3 * (d**2-1)\n",
    "    C = d*(d**2-7)/9/np.sqrt(2)\n",
    "    D = (6*d**4+14*d**2-32)/405\n",
    "    E = d*(9*d**4+256*d**2-433)/4860/np.sqrt(2)\n",
    "    return n+A*np.sqrt(n)+B+C/np.sqrt(n)+D/n+E/n/np.sqrt(n)"
   ]
  },
  {
   "cell_type": "markdown",
   "id": "d7367086",
   "metadata": {},
   "source": [
    "Далее осуществляется проверка всех гипотез - сравнение статистик для каждой с квантилью распределения Хи-квадрат(99% или 95%), 173 степени свободы (число отрезков - 1).\n",
    "Предпоследнее слово в каждом вопросе - название распределения выборки, последнее - проверяемого гипоттезой распределения. Далее записан результат проверки сначала, затем вероятность, с которой осуществлялась проверка. Последнее число - значение статистики."
   ]
  },
  {
   "cell_type": "code",
   "execution_count": 16,
   "id": "03fece11",
   "metadata": {},
   "outputs": [
    {
     "name": "stdout",
     "output_type": "stream",
     "text": [
      "Is generated normal normal?: True 99% False 95%. Statistics value: 213.67980260478987\n",
      "Is generated normal uniform?: False 99% False 95%. Statistics value: 444381.05531658116\n",
      "Is generated normal cauchy?: False 99% False 95%. Statistics value: 213323.46745922545\n",
      "Is generated uniform normal?: False 99% False 95%. Statistics value: 2033771.576173059\n",
      "Is generated uniform uniform?: True 99% True 95%. Statistics value: 9.946657599525587\n",
      "Is generated uniform cauchy?: False 99% False 95%. Statistics value: 3123113.6750501427\n",
      "Is generated cauchy normal?: False 99% False 95%. Statistics value: 54345754.9180331\n",
      "Is generated cauchy uniform?: False 99% False 95%. Statistics value: 575935.7301338571\n",
      "Is generated cauchy cauchy?: True 99% True 95%. Statistics value: 176.72802980751092\n"
     ]
    }
   ],
   "source": [
    "print('Is generated normal normal?:', isnn<cornish_fisher(0.99, 173), '99%', isnn<cornish_fisher(0.95, 173), '95%. Statistics value:', isnn)\n",
    "print('Is generated normal uniform?:', isnu<cornish_fisher(0.99, 173), '99%', isnu<cornish_fisher(0.95, 173), '95%. Statistics value:', isnu)\n",
    "print('Is generated normal cauchy?:', isnc<cornish_fisher(0.99, 173), '99%', isnc<cornish_fisher(0.95, 173), '95%. Statistics value:', isnc)\n",
    "print('Is generated uniform normal?:', isun<cornish_fisher(0.99, 173), '99%', isun<cornish_fisher(0.95, 173), '95%. Statistics value:', isun)\n",
    "print('Is generated uniform uniform?:', isuu<cornish_fisher(0.99, 173), '99%', isuu<cornish_fisher(0.95, 173), '95%. Statistics value:', isuu)\n",
    "print('Is generated uniform cauchy?:', isuc<cornish_fisher(0.99, 173), '99%', isuc<cornish_fisher(0.95, 173), '95%. Statistics value:', isuc)\n",
    "print('Is generated cauchy normal?:', iscn<cornish_fisher(0.99, 173), '99%', iscn<cornish_fisher(0.95, 173), '95%. Statistics value:', iscn)\n",
    "print('Is generated cauchy uniform?:', iscu<cornish_fisher(0.99, 173), '99%', iscu<cornish_fisher(0.95, 173), '95%. Statistics value:', iscu)\n",
    "print('Is generated cauchy cauchy?:', iscc<cornish_fisher(0.99, 173), '99%', iscc<cornish_fisher(0.95, 173), '95%. Statistics value:', iscc)"
   ]
  },
  {
   "cell_type": "markdown",
   "id": "4af009e2",
   "metadata": {},
   "source": [
    "Ниже записаны квантили распределения Хи-квадрат с 173 степенями свободы, расчитанные по аппроксимации Корниша-Фишера (сначала 99%, далее 95%)."
   ]
  },
  {
   "cell_type": "code",
   "execution_count": 17,
   "id": "e9c4385b",
   "metadata": {},
   "outputs": [
    {
     "name": "stdout",
     "output_type": "stream",
     "text": [
      "220.4929298747306 206.20077665046713\n"
     ]
    }
   ],
   "source": [
    "print(cornish_fisher(0.99, 173), cornish_fisher(0.95, 173))"
   ]
  },
  {
   "cell_type": "markdown",
   "id": "1c6126e1",
   "metadata": {},
   "source": [
    "## Статистика Колмогорова\n",
    "Ниже будет приведена проверка каждого из распределений по статистике Колмогорова. Сначала данная статистика будет расчитана для каждой из гипотез для каждого из распределений, затем сравнена с квантилью распределения Колмогорова."
   ]
  },
  {
   "cell_type": "markdown",
   "id": "04bebc10",
   "metadata": {},
   "source": [
    "### Функция расчета квантили распределения Колмогорова."
   ]
  },
  {
   "cell_type": "code",
   "execution_count": 18,
   "id": "0b41b1e7",
   "metadata": {},
   "outputs": [],
   "source": [
    "# Caclculates Kolmogorov quantile\n",
    "def Kolmogorov_quantile(quant):\n",
    "    return np.sqrt(-0.5*np.log((1-quant)/2))"
   ]
  },
  {
   "cell_type": "markdown",
   "id": "f1e6d36b",
   "metadata": {},
   "source": [
    "Ниже записаны квантили, расчитанные для распределения Колмогорова (сначала 99%, далее 95%)."
   ]
  },
  {
   "cell_type": "code",
   "execution_count": 19,
   "id": "f02cb202",
   "metadata": {},
   "outputs": [
    {
     "name": "stdout",
     "output_type": "stream",
     "text": [
      "1.627623630718729 1.3581015157406193\n"
     ]
    }
   ],
   "source": [
    "print(Kolmogorov_quantile(0.99), Kolmogorov_quantile(0.95))"
   ]
  },
  {
   "cell_type": "markdown",
   "id": "ae108169",
   "metadata": {},
   "source": [
    "### Функция расчета статистики Колмогорова"
   ]
  },
  {
   "cell_type": "code",
   "execution_count": 20,
   "id": "7226bbe7",
   "metadata": {},
   "outputs": [],
   "source": [
    "# Calculates Kolmogorov statistics\n",
    "def Kolmogorov_stats(array, compacts, random_type):\n",
    "    stat = 0\n",
    "    for index in range(len(compacts)//2):\n",
    "        border_1 = compacts[2*index]\n",
    "        border_2 = compacts[2*index+1]\n",
    "        borders = [border_1, border_2]\n",
    "        dots_in_compact = (elements_in_compact(array, borders))\n",
    "        prob= probability(borders, random_type)\n",
    "        temp_stat = np.max([dots_in_compact/len(array)-prob, prob - (dots_in_compact-1)/len(array)])\n",
    "        stat = np.max([stat, temp_stat])\n",
    "    return stat*np.sqrt(len(array))"
   ]
  },
  {
   "cell_type": "markdown",
   "id": "3b879d69",
   "metadata": {},
   "source": [
    "Осуществляется расчет статистики."
   ]
  },
  {
   "cell_type": "code",
   "execution_count": 21,
   "id": "233b2ffb",
   "metadata": {},
   "outputs": [],
   "source": [
    "k_isnn = Kolmogorov_stats(np.reshape(normal,-1), get_compacts(174,10), 'gauss')\n",
    "k_isnu = Kolmogorov_stats(np.reshape(normal,-1), get_compacts(174,10), 'uniform')\n",
    "k_isnc = Kolmogorov_stats(np.reshape(normal,-1), get_compacts(174,10), 'cauchy')\n",
    "k_isun = Kolmogorov_stats(np.reshape(uniform,-1), get_compacts(174,10), 'gauss')\n",
    "k_isuu = Kolmogorov_stats(np.reshape(uniform,-1), get_compacts(174,10), 'uniform')\n",
    "k_isuc = Kolmogorov_stats(np.reshape(uniform,-1), get_compacts(174,10), 'cauchy')\n",
    "k_iscn = Kolmogorov_stats(np.reshape(cauchy,-1), get_compacts(174,10), 'gauss')\n",
    "k_iscu = Kolmogorov_stats(np.reshape(cauchy,-1), get_compacts(174,10), 'uniform')\n",
    "k_iscc = Kolmogorov_stats(np.reshape(cauchy,-1), get_compacts(174,10), 'cauchy')"
   ]
  },
  {
   "cell_type": "markdown",
   "id": "68c437f6",
   "metadata": {},
   "source": [
    "Далее осуществляется проверка всех гипотез - сравнение статистик для каждой с квантилью распределения Колмогорова(99% или 95%). Предпоследнее слово в каждом вопросе - название распределения выборки, последнее - проверяемого гипоттезой распределения. Далее записан результат проверки сначала, затем вероятность, с которой осуществлялась проверка.  Последнее число - значение статистики."
   ]
  },
  {
   "cell_type": "code",
   "execution_count": 22,
   "id": "2b922256",
   "metadata": {},
   "outputs": [
    {
     "name": "stdout",
     "output_type": "stream",
     "text": [
      "Is generated normal normal?: True 99% True 95%. Statistics value: 0.3698843464073889\n",
      "Is generated normal uniform?: False 99% False 95%. Statistics value: 43.92381690014372\n",
      "Is generated normal cauchy?: False 99% False 95%. Statistics value: 6.037046836374088\n",
      "Is generated uniform normal?: False 99% False 95%. Statistics value: 44.277128666390354\n",
      "Is generated uniform uniform?: False 99% False 95%. Statistics value: 23.7392578125\n",
      "Is generated uniform cauchy?: False 99% False 95%. Statistics value: 49.38831391833526\n",
      "Is generated cauchy normal?: False 99% False 95%. Statistics value: 6.076448455662728\n",
      "Is generated cauchy uniform?: False 99% False 95%. Statistics value: 49.03026221264372\n",
      "Is generated cauchy cauchy?: True 99% True 95%. Statistics value: 0.29624310277387167\n"
     ]
    }
   ],
   "source": [
    "print('Is generated normal normal?:', k_isnn<Kolmogorov_quantile(0.99), '99%', k_isnn<Kolmogorov_quantile(0.95), '95%. Statistics value:', k_isnn)\n",
    "print('Is generated normal uniform?:', k_isnu<Kolmogorov_quantile(0.99), '99%', k_isnu<Kolmogorov_quantile(0.95), '95%. Statistics value:', k_isnu)\n",
    "print('Is generated normal cauchy?:', k_isnc<Kolmogorov_quantile(0.99), '99%', k_isnc<Kolmogorov_quantile(0.95), '95%. Statistics value:', k_isnc)\n",
    "print('Is generated uniform normal?:', k_isun<Kolmogorov_quantile(0.99), '99%', k_isun<Kolmogorov_quantile(0.95), '95%. Statistics value:', k_isun)\n",
    "print('Is generated uniform uniform?:', k_isuu<Kolmogorov_quantile(0.99), '99%', k_isuu<Kolmogorov_quantile(0.95), '95%. Statistics value:', k_isuu)\n",
    "print('Is generated uniform cauchy?:', k_isuc<Kolmogorov_quantile(0.99), '99%', k_isuc<Kolmogorov_quantile(0.95), '95%. Statistics value:', k_isuc)\n",
    "print('Is generated cauchy normal?:', k_iscn<Kolmogorov_quantile(0.99), '99%', k_iscn<Kolmogorov_quantile(0.95), '95%. Statistics value:', k_iscn)\n",
    "print('Is generated cauchy uniform?:', k_iscu<Kolmogorov_quantile(0.99), '99%', k_iscu<Kolmogorov_quantile(0.95), '95%. Statistics value:', k_iscu)\n",
    "print('Is generated cauchy cauchy?:', k_iscc<Kolmogorov_quantile(0.99), '99%', k_iscc<Kolmogorov_quantile(0.95), '95%. Statistics value:', k_iscc)"
   ]
  },
  {
   "cell_type": "markdown",
   "id": "631c29a3",
   "metadata": {},
   "source": [
    "## Статистика Стьюдента\n",
    "Далее будет проверяться независимость 1-й и 2-й половин случайного поля для всех распределений по статистике Стьюдента. Сначала будет проводиться расчет статистики, затем она будет сравниваться с квантилью распределения стьюдента 1099511627776 степеней свободы (квадрат (числа элементов - 1) каждой из выборок)."
   ]
  },
  {
   "cell_type": "markdown",
   "id": "704a32a0",
   "metadata": {},
   "source": [
    "### Функция расчета статистики Стьюдента"
   ]
  },
  {
   "cell_type": "code",
   "execution_count": 23,
   "id": "96401c27",
   "metadata": {},
   "outputs": [],
   "source": [
    "def first_momentum(array):\n",
    "    return 2/len(array)*np.sum(np.sort(array)[0:len(array)//2])\n",
    "def second_momentum(array):\n",
    "    return 2/len(array)*np.sum(np.sort(array)[len(array)//2:len(array)])\n",
    "def correlation_coefficient(array):\n",
    "    first_part = np.sort(array)[0:len(array)//2]-first_momentum(array)\n",
    "    second_part = np.sort(array)[len(array)//2:len(array)]-second_momentum(array)\n",
    "    denominator = np.sum(first_part*second_part)\n",
    "    devidor_1 = np.sum((np.sort(array)[0:len(array)//2]-first_momentum(array))**2)\n",
    "    devidor_2 = np.sum((np.sort(array)[len(array)//2:len(array)]-second_momentum(array))**2)\n",
    "    devidor = np.sqrt(devidor_1*devidor_2)\n",
    "    return denominator/devidor\n",
    "def Student_stats(array):\n",
    "    r = correlation_coefficient(array)\n",
    "    return r/np.sqrt(1-r**2)*np.sqrt(len(array)-2)"
   ]
  },
  {
   "cell_type": "markdown",
   "id": "c6f027bf",
   "metadata": {},
   "source": [
    "99-я квантиль распределения Стьюдента 1099511627776 степеней свободы (квадрат (числа элементов - 1) каждой из выборок).\n",
    "Значение: 2.28 ."
   ]
  },
  {
   "cell_type": "code",
   "execution_count": 24,
   "id": "685f4dcf",
   "metadata": {},
   "outputs": [],
   "source": [
    "student_quantile = 2.28"
   ]
  },
  {
   "cell_type": "markdown",
   "id": "428bd899",
   "metadata": {},
   "source": [
    "Расчет статистики."
   ]
  },
  {
   "cell_type": "code",
   "execution_count": 25,
   "id": "31be5b6a",
   "metadata": {},
   "outputs": [],
   "source": [
    "i_n = Student_stats(np.reshape(normal,-1))\n",
    "i_u = Student_stats(np.reshape(cauchy,-1))\n",
    "i_c = Student_stats(np.reshape(uniform,-1))"
   ]
  },
  {
   "cell_type": "markdown",
   "id": "306ce6b4",
   "metadata": {},
   "source": [
    "Осуществляется проверка всех гипотез - сравнение статистик для каждой с квантилью распределения Стьюдента(99%). Вопрос о независимости половин распределения, 3-е слово - название распределения. Далее записан результат проверки сначала, затем вероятность, с которой осуществлялась проверка. Последнее число - значение статистики."
   ]
  },
  {
   "cell_type": "code",
   "execution_count": 26,
   "id": "6ae19e88",
   "metadata": {},
   "outputs": [
    {
     "name": "stdout",
     "output_type": "stream",
     "text": [
      "Are generated normal halfes independent?: False 99%. Statistics value: 1702.5751296105161\n",
      "Are generated uniform halfes independent?: True 99%. Statistics value: 0.7667641986866754\n",
      "Are generated cauchy halfes independent?: False 99%. Statistics value: 541664.3714020168\n"
     ]
    }
   ],
   "source": [
    "print('Are generated normal halfes independent?:', i_n<=student_quantile, '99%. Statistics value:', i_n)\n",
    "print('Are generated uniform halfes independent?:', i_u<=student_quantile, '99%. Statistics value:', i_u)\n",
    "print('Are generated cauchy halfes independent?:', i_c<=student_quantile, '99%. Statistics value:', i_c)"
   ]
  },
  {
   "cell_type": "code",
   "execution_count": null,
   "id": "e9cd1b86",
   "metadata": {},
   "outputs": [],
   "source": []
  },
  {
   "cell_type": "code",
   "execution_count": null,
   "id": "d0d0d715",
   "metadata": {},
   "outputs": [],
   "source": []
  },
  {
   "cell_type": "code",
   "execution_count": null,
   "id": "d979a889",
   "metadata": {},
   "outputs": [],
   "source": []
  }
 ],
 "metadata": {
  "kernelspec": {
   "display_name": "Python 3 (ipykernel)",
   "language": "python",
   "name": "python3"
  },
  "language_info": {
   "codemirror_mode": {
    "name": "ipython",
    "version": 3
   },
   "file_extension": ".py",
   "mimetype": "text/x-python",
   "name": "python",
   "nbconvert_exporter": "python",
   "pygments_lexer": "ipython3",
   "version": "3.9.7"
  }
 },
 "nbformat": 4,
 "nbformat_minor": 5
}
